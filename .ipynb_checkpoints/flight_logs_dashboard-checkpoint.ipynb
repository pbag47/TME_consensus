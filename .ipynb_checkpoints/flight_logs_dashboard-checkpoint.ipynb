{
 "cells": [
  {
   "cell_type": "markdown",
   "id": "f60e8afc-06c1-444b-85b3-6d018b0d47ce",
   "metadata": {},
   "source": [
    "<center> <font size=\"7\"> Flight logs dashboard </font> </center>\n",
    "\n",
    "___\n",
    "    Pierre BAGNARA\n",
    "    pierre.bagnara47@gmail.com\n",
    "    15 Novembre 2022\n",
    "___\n",
    "Notebook associé au projet Python ```TP_consensus```. <br> \n",
    "Les cellules de code Python 3 sont exécutables par le raccourci-clavier ```shift+Entrée``` une fois la cellule sélectionnée.\n",
    "___\n",
    "Ce Notebook interactif permet de lire le fichier ```logs.csv``` dans lequel les données du dernier vol sont sauvegardées. Une série de graphiques est restituée après l'exécution de l'ensemble des cellules du Notebook (onglet ```Run``` -> ```Run all cells```).\n",
    "___"
   ]
  },
  {
   "cell_type": "code",
   "execution_count": 52,
   "id": "9035eafd-5941-48ca-a730-56cd971d6542",
   "metadata": {
    "jupyter": {
     "source_hidden": true
    },
    "tags": []
   },
   "outputs": [],
   "source": [
    "%reset -f"
   ]
  },
  {
   "cell_type": "code",
   "execution_count": 53,
   "id": "9262d1ed-5b93-4777-922d-387f1402b36c",
   "metadata": {
    "jupyter": {
     "source_hidden": true
    },
    "tags": []
   },
   "outputs": [],
   "source": [
    "from csv import DictReader\n",
    "from ipywidgets import VBox, Layout, IntSlider, IntRangeSlider\n",
    "import plotly.graph_objects as go"
   ]
  },
  {
   "cell_type": "code",
   "execution_count": 54,
   "id": "57301e81-0a64-4b97-9ff7-51acfda8f41b",
   "metadata": {
    "jupyter": {
     "source_hidden": true
    },
    "tags": []
   },
   "outputs": [],
   "source": [
    "def extract_csv_data(filename):\n",
    "    file = open(filename, 'r')\n",
    "    reader = DictReader(file)\n",
    "    data_list = list(reader)\n",
    "    body_names = set(data_list_element['Crazyflie name'] for data_list_element in data_list)\n",
    "    variable_names = [key for key in data_list[0].keys() if key != 'QTM packet timestamp (s)' and key != 'Crazyflie name']\n",
    "    timestamps = sorted(set(float(data_list_element['QTM packet timestamp (s)']) for data_list_element in data_list))\n",
    "    data = {timestamp: {body_name: {variable_name: None for variable_name in variable_names} for body_name in body_names} for timestamp in timestamps}\n",
    "    for i in range(len(data_list)):\n",
    "        for key in data_list[0].keys():\n",
    "            if key != 'Crazyflie name' and key != 'QTM packet timestamp (s)':\n",
    "                if data_list[i][key] == 'None':\n",
    "                    data[float(data_list[i]['QTM packet timestamp (s)'])][data_list[i]['Crazyflie name']][key] = None\n",
    "                else:\n",
    "                    data[float(data_list[i]['QTM packet timestamp (s)'])][data_list[i]['Crazyflie name']][key] = float(data_list[i][key])\n",
    "    return body_names, data"
   ]
  },
  {
   "cell_type": "code",
   "execution_count": 55,
   "id": "5f30e4f9-587a-4fc6-96cf-b38b5112a72c",
   "metadata": {
    "jupyter": {
     "source_hidden": true
    },
    "tags": []
   },
   "outputs": [],
   "source": [
    "def initial_plot(data, body_names, flight_zone_boundaries, colors_association, fig):\n",
    "    figure_children = [children for children in fig.children]\n",
    "    \n",
    "    # Plot x, y, and z vectors\n",
    "    figure_children[2].add_trace(go.Scatter3d(x=[0, 1], y=[0, 0], z=[0, 0], line=dict(color='red', width=20),\n",
    "                                              name='Axe X', legendgroup='0', mode='lines'))\n",
    "    figure_children[2].add_trace(go.Scatter3d(x=[0, 0], y=[0, 1], z=[0, 0], line=dict(color='green', width=20),\n",
    "                                              name='Axe Y', legendgroup='0', mode='lines'))\n",
    "    figure_children[2].add_trace(go.Scatter3d(x=[0, 0], y=[0, 0], z=[0, 1], line=dict(color='blue', width=20),\n",
    "                                              name='Axe Z', legendgroup='0', mode='lines'))\n",
    "    \n",
    "    timestamps = data.keys()\n",
    "    t = [timestamp for timestamp in data.keys()]\n",
    "    time = t[0]\n",
    "    size = 10\n",
    "    for name in body_names:\n",
    "        color = colors_association[name]\n",
    "        x = [data[timestamp][name]['x (m)'] for timestamp in timestamps]\n",
    "        y = [data[timestamp][name]['y (m)'] for timestamp in timestamps]\n",
    "        z = [data[timestamp][name]['z (m)'] for timestamp in timestamps]\n",
    "        phi = [data[timestamp][name]['roll_c (°)'] for timestamp in timestamps]\n",
    "        theta = [data[timestamp][name]['pitch_c (°)'] for timestamp in timestamps]\n",
    "        vz = [data[timestamp][name]['vz (m/s)'] for timestamp in timestamps]\n",
    "        \n",
    "        # 3D graph : Main line\n",
    "        figure_children[2].add_trace(go.Scatter3d(x=x, y=y, z=z,\n",
    "                                                  line=dict(color=color),\n",
    "                                                  name=name + ' trajectory',\n",
    "                                                  legendgroup=name,\n",
    "                                                  showlegend=False,\n",
    "                                                  mode='lines',\n",
    "                                                  connectgaps=False))\n",
    "        # 3D graph : Position\n",
    "        figure_children[2].add_trace(go.Scatter3d(x=[data[time][name]['x (m)']],\n",
    "                                                  y=[data[time][name]['y (m)']],\n",
    "                                                  z=[data[time][name]['z (m)']],\n",
    "                                                  line=dict(color=color),\n",
    "                                                  name=name + ' position',\n",
    "                                                  legendgroup=name,\n",
    "                                                  mode='markers',\n",
    "                                                  marker=dict(size=4)))\n",
    "        \n",
    "        # X graph\n",
    "        figure_children[3].add_trace(go.Scatter(x=t, y=x,\n",
    "                                                line=dict(color=color),\n",
    "                                                name=name + ' X vs time',\n",
    "                                                legendgroup=name,\n",
    "                                                showlegend=False,\n",
    "                                                mode='lines',\n",
    "                                                connectgaps=False))\n",
    "        figure_children[3].add_trace(go.Scatter(x=[t[0]], y=[x[0]],\n",
    "                                                line=dict(color=color),\n",
    "                                                name=name + ' X',\n",
    "                                                legendgroup=name,\n",
    "                                                mode='markers',\n",
    "                                                marker=dict(size=size)))\n",
    "        figure_children[3].update_xaxes(title='Temps (s)')\n",
    "        figure_children[3].update_yaxes(title='X (m)')\n",
    "        \n",
    "        # Y graph\n",
    "        figure_children[4].add_trace(go.Scatter(x=t, y=y,\n",
    "                                                line=dict(color=color),\n",
    "                                                name=name + ' Y vs time',\n",
    "                                                legendgroup=name,\n",
    "                                                showlegend=False,\n",
    "                                                mode='lines',\n",
    "                                                connectgaps=False))\n",
    "        figure_children[4].add_trace(go.Scatter(x=[t[0]], y=[y[0]],\n",
    "                                                line=dict(color=color),\n",
    "                                                name=name + ' Y',\n",
    "                                                legendgroup=name,\n",
    "                                                mode='markers',\n",
    "                                                marker=dict(size=size)))\n",
    "        figure_children[4].update_xaxes(title='Temps (s)')\n",
    "        figure_children[4].update_yaxes(title='Y (m)')\n",
    "        \n",
    "        # Roll graph\n",
    "        figure_children[5].add_trace(go.Scatter(x=t, y=phi,\n",
    "                                                line=dict(color=color),\n",
    "                                                name=name + ' phi vs time',\n",
    "                                                legendgroup=name,\n",
    "                                                showlegend=False,\n",
    "                                                mode='lines',\n",
    "                                                connectgaps=False))\n",
    "        figure_children[5].add_trace(go.Scatter(x=[t[0]], y=[phi[0]],\n",
    "                                                line=dict(color=color),\n",
    "                                                name=name + ' Roll',\n",
    "                                                legendgroup=name,\n",
    "                                                mode='markers',\n",
    "                                                marker=dict(size=size)))\n",
    "        figure_children[5].update_xaxes(title='Temps (s)')\n",
    "        figure_children[5].update_yaxes(title='Gîte (°)')\n",
    "        \n",
    "        # Pitch graph\n",
    "        figure_children[6].add_trace(go.Scatter(x=t, y=theta,\n",
    "                                                line=dict(color=color),\n",
    "                                                name=name + ' theta vs time',\n",
    "                                                legendgroup=name,\n",
    "                                                showlegend=False,\n",
    "                                                mode='lines',\n",
    "                                                connectgaps=False))\n",
    "        figure_children[6].add_trace(go.Scatter(x=[t[0]], y=[theta[0]],\n",
    "                                                line=dict(color=color),\n",
    "                                                name=name + ' Pitch',\n",
    "                                                legendgroup=name,\n",
    "                                                mode='markers',\n",
    "                                                marker=dict(size=size)))\n",
    "        figure_children[6].update_xaxes(title='Temps (s)')\n",
    "        figure_children[6].update_yaxes(title='Assiette (°)')\n",
    "        \n",
    "        # Z graph\n",
    "        figure_children[7].add_trace(go.Scatter(x=t, y=z,\n",
    "                                                line=dict(color=color),\n",
    "                                                name=name + ' Z vs time',\n",
    "                                                legendgroup=name,\n",
    "                                                showlegend=False,\n",
    "                                                mode='lines',\n",
    "                                                connectgaps=False))\n",
    "        figure_children[7].add_trace(go.Scatter(x=[t[0]], y=[z[0]],\n",
    "                                                line=dict(color=color),\n",
    "                                                name=name + ' Z',\n",
    "                                                legendgroup=name,\n",
    "                                                mode='markers',\n",
    "                                                marker=dict(size=size)))\n",
    "        figure_children[7].update_xaxes(title='Temps (s)')\n",
    "        figure_children[7].update_yaxes(title='Z (m)')\n",
    "        \n",
    "        # VZ graph\n",
    "        figure_children[8].add_trace(go.Scatter(x=t, y=vz,\n",
    "                                                line=dict(color=color),\n",
    "                                                name=name + ' VZ vs time',\n",
    "                                                legendgroup=name,\n",
    "                                                showlegend=False,\n",
    "                                                mode='lines',\n",
    "                                                connectgaps=False))\n",
    "        figure_children[8].add_trace(go.Scatter(x=[t[0]], y=[vz[0]],\n",
    "                                                line=dict(color=color),\n",
    "                                                name=name + ' VZ',\n",
    "                                                legendgroup=name,\n",
    "                                                mode='markers',\n",
    "                                                marker=dict(size=size)))\n",
    "        figure_children[8].update_xaxes(title='Temps (s)')\n",
    "        figure_children[8].update_yaxes(title='VZ (m/s)')\n",
    "\n",
    "    figure_children[2].update_scenes(xaxis=dict(range=[flight_zone_boundaries[0][0], flight_zone_boundaries[0][1]],\n",
    "                                                title='X (m)'),\n",
    "                                     yaxis=dict(range=[flight_zone_boundaries[1][0], flight_zone_boundaries[1][1]],\n",
    "                                                title='Y (m)'),\n",
    "                                     zaxis=dict(range=[flight_zone_boundaries[2][0], flight_zone_boundaries[2][1]],\n",
    "                                                title='Z (m)'),\n",
    "                                     aspectmode='manual',\n",
    "                                     aspectratio=dict(x=1,\n",
    "                                                      y=abs((flight_zone_boundaries[1][1] - flight_zone_boundaries[1][0]) /\n",
    "                                                            (flight_zone_boundaries[0][1] - flight_zone_boundaries[0][0])),\n",
    "                                                      z=abs((flight_zone_boundaries[2][1] - flight_zone_boundaries[2][0]) /\n",
    "                                                            (flight_zone_boundaries[0][1] - flight_zone_boundaries[0][0])))\n",
    "                                    )\n",
    "    return fig"
   ]
  },
  {
   "cell_type": "code",
   "execution_count": 56,
   "id": "4cf51fe6-e308-4236-96f6-f0123d80a8af",
   "metadata": {
    "jupyter": {
     "source_hidden": true
    },
    "tags": []
   },
   "outputs": [],
   "source": [
    "def update_plots_data(data, body_names, timestamp_range, time):\n",
    "    timestamps = data.keys()\n",
    "    plot_data = {'Axe X': dict(x=[0, 1], y=[0, 0], z=[0, 0]),\n",
    "                 'Axe Y': dict(x=[0, 0], y=[0, 1], z=[0, 0]),\n",
    "                 'Axe Z': dict(x=[0, 0], y=[0, 0], z=[0, 1])}\n",
    "    t = [timestamp for timestamp in timestamps if timestamp_range[0] <= timestamp <= timestamp_range[1]]\n",
    "    for name in body_names:\n",
    "        x = [data[timestamp][name]['x (m)'] for timestamp in timestamps if timestamp_range[0] <= timestamp <= timestamp_range[1]]\n",
    "        y = [data[timestamp][name]['y (m)'] for timestamp in timestamps if timestamp_range[0] <= timestamp <= timestamp_range[1]]\n",
    "        z = [data[timestamp][name]['z (m)'] for timestamp in timestamps if timestamp_range[0] <= timestamp <= timestamp_range[1]]\n",
    "        vx = [data[timestamp][name]['vx (m/s)'] for timestamp in timestamps if timestamp_range[0] <= timestamp <= timestamp_range[1]]\n",
    "        vy = [data[timestamp][name]['vy (m/s)'] for timestamp in timestamps if timestamp_range[0] <= timestamp <= timestamp_range[1]]\n",
    "        vz = [data[timestamp][name]['vz (m/s)'] for timestamp in timestamps if timestamp_range[0] <= timestamp <= timestamp_range[1]]\n",
    "        phi = [data[timestamp][name]['roll_c (°)'] for timestamp in timestamps if timestamp_range[0] <= timestamp <= timestamp_range[1]]\n",
    "        theta = [data[timestamp][name]['pitch_c (°)'] for timestamp in timestamps if timestamp_range[0] <= timestamp <= timestamp_range[1]]\n",
    "        \n",
    "        plot_data[name + ' trajectory'] = dict(x=x, y=y, z=z)\n",
    "        plot_data[name + ' position'] = dict(x=[data[time][name]['x (m)']],\n",
    "                                             y=[data[time][name]['y (m)']],\n",
    "                                             z=[data[time][name]['z (m)']])\n",
    "        plot_data[name + ' X vs time'] = dict(x=t, y=x)\n",
    "        plot_data[name + ' Y vs time'] = dict(x=t, y=y)\n",
    "        plot_data[name + ' Z vs time'] = dict(x=t, y=z)\n",
    "        plot_data[name + ' phi vs time'] = dict(x=t, y=phi)\n",
    "        plot_data[name + ' theta vs time'] = dict(x=t, y=theta)\n",
    "        plot_data[name + ' VZ vs time'] = dict(x=t, y=vz)\n",
    "        plot_data[name + ' X'] = dict(x=[time], y=[data[time][name]['x (m)']])\n",
    "        plot_data[name + ' Y'] = dict(x=[time], y=[data[time][name]['y (m)']])\n",
    "        plot_data[name + ' Z'] = dict(x=[time], y=[data[time][name]['z (m)']])\n",
    "        plot_data[name + ' Roll'] = dict(x=[time], y=[data[time][name]['roll_c (°)']])\n",
    "        plot_data[name + ' Pitch'] = dict(x=[time], y=[data[time][name]['pitch_c (°)']])\n",
    "        plot_data[name + ' VZ'] = dict(x=[time], y=[data[time][name]['vz (m/s)']])\n",
    "    return plot_data"
   ]
  },
  {
   "cell_type": "code",
   "execution_count": 57,
   "id": "87dc84e5-b77d-4820-8bf6-c6f3693f2cb5",
   "metadata": {
    "jupyter": {
     "source_hidden": true
    },
    "tags": []
   },
   "outputs": [],
   "source": [
    "def update_plots(fig, plot_data):\n",
    "    children = [ch for ch in fig.children]\n",
    "    for i in range(len(children)):\n",
    "        if i >= 2:\n",
    "            with children[i].batch_update():\n",
    "                for plot in children[i].data:\n",
    "                    plot.x = plot_data[plot.name]['x']\n",
    "                    plot.y = plot_data[plot.name]['y']\n",
    "                    try:\n",
    "                        plot.z = plot_data[plot.name]['z']\n",
    "                    except KeyError:\n",
    "                        pass\n",
    "    return fig"
   ]
  },
  {
   "cell_type": "code",
   "execution_count": 58,
   "id": "cdaefe79-faba-4178-a070-39b4ab9a99ff",
   "metadata": {
    "jupyter": {
     "source_hidden": true
    },
    "tags": []
   },
   "outputs": [],
   "source": [
    "def time_range_changed(change):\n",
    "    global figure\n",
    "    global time_slider\n",
    "    global data\n",
    "    global bodies_names\n",
    "    \n",
    "    new_range = change['new']\n",
    "    time_slider.min = new_range[0]\n",
    "    time_slider.max = new_range[1]\n",
    "    \n",
    "    timestamps = [timestamp for timestamp in data.keys()]\n",
    "    timestamp_range = [timestamps[new_range[0]], timestamps[new_range[1]]]\n",
    "    time = timestamps[time_slider.value]\n",
    "    plot_data = update_plots_data(data, bodies_names, timestamp_range, time)\n",
    "    figure = update_plots(figure, plot_data)"
   ]
  },
  {
   "cell_type": "code",
   "execution_count": 59,
   "id": "eaa726fe-d41c-49e6-a467-2592c8529989",
   "metadata": {
    "jupyter": {
     "source_hidden": true
    },
    "tags": []
   },
   "outputs": [],
   "source": [
    "def time_changed(change):\n",
    "    global figure\n",
    "    global range_slider\n",
    "    global data\n",
    "    global bodies_names\n",
    "    \n",
    "    new_time = change['new']\n",
    "    timestamps = [timestamp for timestamp in data.keys()]\n",
    "    timestamp_range = [timestamps[range_slider.value[0]], timestamps[range_slider.value[1]]]\n",
    "    time = timestamps[new_time]\n",
    "    plot_data = update_plots_data(data, bodies_names, timestamp_range, time)\n",
    "    figure = update_plots(figure, plot_data)"
   ]
  },
  {
   "cell_type": "code",
   "execution_count": 60,
   "id": "4b9279c7-9099-4611-b963-b9ecd7c0b314",
   "metadata": {
    "jupyter": {
     "source_hidden": true
    },
    "tags": []
   },
   "outputs": [],
   "source": [
    "def display_dashboard(filename):\n",
    "    global figure\n",
    "    global time_slider\n",
    "    global range_slider\n",
    "    global data\n",
    "    global bodies_names\n",
    "\n",
    "    flight_area_limits = [[-2.5, 2.5], [-2.5, 2.5], [-0.1, 2]]\n",
    "    cf_colors = dict(cf1='white',\n",
    "                     cf2='cyan',\n",
    "                     cf3='yellow',\n",
    "                     cf4='magenta',\n",
    "                     cf5='blue',\n",
    "                     cf6='red',\n",
    "                     cf7='green',\n",
    "                     cf8='pink',\n",
    "                     cf9='brown',\n",
    "                     cf10='orange')\n",
    "\n",
    "    bodies_names, data = extract_csv_data(filename)\n",
    "    timestamps = [timestamp for timestamp in data.keys()]\n",
    "    range_slider = IntRangeSlider(value=[0, len(timestamps) - 1], min=0, max=len(timestamps) - 1, step=1, \n",
    "                                             description='Intervalle', readout=False, layout=Layout(width='1000px'))\n",
    "    time_slider = IntSlider(value=0, min=0, max=len(timestamps) - 1, step=1, \n",
    "                                       description= 'Temps', readout=False, layout=Layout(width='1000px'))\n",
    "    height = 350\n",
    "    figure = VBox([range_slider,\n",
    "                   time_slider,\n",
    "                   go.FigureWidget(data=[], layout=dict(title_text='Trajectoire 3D',\n",
    "                                                        template='plotly_dark',\n",
    "                                                        legend=dict(bgcolor='rgba(0,0,0,0)',\n",
    "                                                                    tracegroupgap=10),\n",
    "                                                        height=2*height)),\n",
    "                   go.FigureWidget(data=[], layout=dict(title_text='Evolution de X en fonction du temps',\n",
    "                                                        template='plotly_dark',\n",
    "                                                        legend=dict(bgcolor='rgba(0,0,0,0)',\n",
    "                                                                    tracegroupgap=10),\n",
    "                                                        height=height)),\n",
    "                   go.FigureWidget(data=[], layout=dict(title_text='Evolution de Y en fonction du temps',\n",
    "                                                        template='plotly_dark',\n",
    "                                                        legend=dict(bgcolor='rgba(0,0,0,0)',\n",
    "                                                                    tracegroupgap=10),\n",
    "                                                        height=height)),\n",
    "                   go.FigureWidget(data=[], layout=dict(title_text='Evolution de Theta en fonction du temps',\n",
    "                                                        template='plotly_dark',\n",
    "                                                        legend=dict(bgcolor='rgba(0,0,0,0)',\n",
    "                                                                    tracegroupgap=10),\n",
    "                                                        height=height)),\n",
    "                   go.FigureWidget(data=[], layout=dict(title_text='Evolution de Phi en fonction du temps',\n",
    "                                                        template='plotly_dark',\n",
    "                                                        legend=dict(bgcolor='rgba(0,0,0,0)',\n",
    "                                                                    tracegroupgap=10),\n",
    "                                                        height=height)),\n",
    "                   go.FigureWidget(data=[], layout=dict(title_text='Evolution de Z en fonction du temps',\n",
    "                                                        template='plotly_dark',\n",
    "                                                        legend=dict(bgcolor='rgba(0,0,0,0)',\n",
    "                                                                    tracegroupgap=10),\n",
    "                                                        height=height)),\n",
    "                   go.FigureWidget(data=[], layout=dict(title_text='Evolution de VZ en fonction du temps',\n",
    "                                                        template='plotly_dark',\n",
    "                                                        legend=dict(bgcolor='rgba(0,0,0,0)',\n",
    "                                                                    tracegroupgap=10),\n",
    "                                                        height=height))])\n",
    "    range_slider.observe(time_range_changed, names='value')\n",
    "    time_slider.observe(time_changed, names='value')\n",
    "    figure = initial_plot(data, bodies_names, flight_area_limits, cf_colors, figure)\n",
    "    display(figure)"
   ]
  },
  {
   "cell_type": "code",
   "execution_count": 61,
   "id": "3a5522d8-bc50-4fcf-99e2-b6a96e0ccea0",
   "metadata": {
    "tags": []
   },
   "outputs": [
    {
     "data": {
      "application/vnd.jupyter.widget-view+json": {
       "model_id": "9ae369f6040c4fd9bed14bf2ed57c7b0",
       "version_major": 2,
       "version_minor": 0
      },
      "text/plain": [
       "VBox(children=(IntRangeSlider(value=(0, 1004), description='Intervalle', layout=Layout(width='1000px'), max=10…"
      ]
     },
     "metadata": {},
     "output_type": "display_data"
    }
   ],
   "source": [
    "global figure\n",
    "global time_slider\n",
    "global range_slider\n",
    "global data\n",
    "global bodies_names\n",
    "display_dashboard('logs.csv')"
   ]
  },
  {
   "cell_type": "code",
   "execution_count": null,
   "id": "7fc7045c-6371-41e7-a15c-24faa9a5fbf8",
   "metadata": {},
   "outputs": [],
   "source": []
  }
 ],
 "metadata": {
  "kernelspec": {
   "display_name": "Python 3 (ipykernel)",
   "language": "python",
   "name": "python3"
  },
  "language_info": {
   "codemirror_mode": {
    "name": "ipython",
    "version": 3
   },
   "file_extension": ".py",
   "mimetype": "text/x-python",
   "name": "python",
   "nbconvert_exporter": "python",
   "pygments_lexer": "ipython3",
   "version": "3.10.6"
  }
 },
 "nbformat": 4,
 "nbformat_minor": 5
}
